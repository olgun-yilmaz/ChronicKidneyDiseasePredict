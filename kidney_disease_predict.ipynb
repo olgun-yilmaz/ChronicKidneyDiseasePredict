{
 "cells": [
  {
   "cell_type": "code",
   "id": "initial_id",
   "metadata": {
    "collapsed": true
   },
   "source": [
    "# import libraries\n",
    "\n",
    "import os\n",
    "\n",
    "import pandas as pd\n",
    "from matplotlib import pyplot as plt\n",
    "import seaborn as sns\n",
    "\n",
    "from sklearn.model_selection import train_test_split\n",
    "from sklearn.metrics import accuracy_score, confusion_matrix, classification_report\n",
    "from sklearn.tree import DecisionTreeClassifier\n",
    "\n",
    "import warnings\n",
    "warnings.filterwarnings('ignore')"
   ],
   "outputs": [],
   "execution_count": null
  },
  {
   "metadata": {},
   "cell_type": "code",
   "source": "os.chdir(\"res\")",
   "id": "ec681916a2b06072",
   "outputs": [],
   "execution_count": null
  },
  {
   "metadata": {},
   "cell_type": "code",
   "source": [
    "# load dataset\n",
    "df = pd.read_csv('kidney_disease.csv')\n",
    "df.drop(columns=['id'],axis=1,inplace=True)"
   ],
   "id": "66866da7e3dd28e8",
   "outputs": [],
   "execution_count": null
  },
  {
   "metadata": {},
   "cell_type": "code",
   "source": "df.columns",
   "id": "fd6c11371f7b1ec6",
   "outputs": [],
   "execution_count": null
  },
  {
   "metadata": {},
   "cell_type": "code",
   "source": [
    "df.columns = ['age', 'blood_pressure', 'spesific_gravity', 'albumin', 'sugar',\n",
    "              'red_blood_cell', 'puss_cell', 'puss_cell_clumbs', 'bacteria', \n",
    "              'blood_glucose_random', 'blood_urea','serum_creatine', 'sodium',\n",
    "              'potassium', 'hemoglobin', 'packet_cell_volume', 'white_blood_cell_count',\n",
    "              'red_blood_cell_count', 'hyper_tension', 'diabetes_mellitus',\n",
    "              'coronary_artert_disease','appetite', 'peda_edema', 'anemia', 'class']"
   ],
   "id": "b531d0cfcb2ae48b",
   "outputs": [],
   "execution_count": null
  },
  {
   "metadata": {},
   "cell_type": "code",
   "source": "df.head()",
   "id": "b29713d355cbbff",
   "outputs": [],
   "execution_count": null
  },
  {
   "metadata": {},
   "cell_type": "code",
   "source": "df.info()",
   "id": "9244260cf03296d7",
   "outputs": [],
   "execution_count": null
  },
  {
   "metadata": {},
   "cell_type": "code",
   "source": [
    "def convert2numeric(col):\n",
    "    df[col] = pd.to_numeric(df[col], errors='coerce')\n",
    "    # coerce : if can't convert, value to nan\n",
    "\n",
    "to_numeric_list = ['packet_cell_volume','white_blood_cell_count','red_blood_cell_count']\n",
    "\n",
    "for col in to_numeric_list:\n",
    "    convert2numeric(col)"
   ],
   "id": "a801d921cdf5d8cc",
   "outputs": [],
   "execution_count": null
  },
  {
   "metadata": {},
   "cell_type": "code",
   "source": [
    "# EDA : KDE\n",
    "cat_columns = [col for col in df.columns if df[col].dtype == 'object']\n",
    "num_columns = [col for col in df.columns if df[col].dtype != 'object']\n",
    "\n",
    "for col in cat_columns:\n",
    "    print(f\"{col} : {df[col].unique()}\")\n",
    "    \n",
    "\"\"\"\n",
    "diabetes_mellitus : ['yes' 'no' ' yes' '\\tno' '\\tyes' nan]\n",
    "coronary_artert_disease : ['no' 'yes' '\\tno' nan]\n",
    "class : ['ckd' 'ckd\\t' 'notckd']\n",
    "\"\"\"    \n",
    "\n",
    "clean_dict = {' yes' : 'yes',\n",
    "                 '\\tno' : 'no',\n",
    "                 '\\tyes' : 'yes',\n",
    "                 'ckd\\t' : 'ckd' }\n",
    "\n",
    "def normalize_data(col):\n",
    "    df[col].replace(clean_dict,inplace=True) \n",
    "\n",
    "normalize_data('class')    \n",
    "normalize_data('diabetes_mellitus')\n",
    "normalize_data('coronary_artert_disease')\n"
   ],
   "id": "cc92ea5271e6e1d0",
   "outputs": [],
   "execution_count": null
  },
  {
   "metadata": {},
   "cell_type": "code",
   "source": "df['class']",
   "id": "999c5a7be496ce1f",
   "outputs": [],
   "execution_count": null
  },
  {
   "metadata": {},
   "cell_type": "code",
   "source": [
    "# mapping\n",
    "df['class'] = df['class'].map({'notckd' : 0, 'ckd' : 1})\n",
    "df\n"
   ],
   "id": "f58b41ecd38a6a62",
   "outputs": [],
   "execution_count": null
  },
  {
   "metadata": {},
   "cell_type": "code",
   "source": [
    "plt.figure(figsize=(15,15))\n",
    "num_plot = 1\n",
    "\n",
    "for col in num_columns:\n",
    "    if num_plot <= len(num_columns):\n",
    "        ax = plt.subplot(3,5,num_plot)\n",
    "        sns.histplot(df[col])\n",
    "        plt.xlabel(col)\n",
    "        \n",
    "        num_plot += 1\n",
    "plt.tight_layout()\n",
    "plt.show()\n",
    "    "
   ],
   "id": "4d720aa3d2a9a87",
   "outputs": [],
   "execution_count": null
  },
  {
   "metadata": {},
   "cell_type": "code",
   "source": "df['class']",
   "id": "b778d900689f56ff",
   "outputs": [],
   "execution_count": null
  },
  {
   "metadata": {},
   "cell_type": "code",
   "source": [
    "plt.figure(figsize=(15,15))\n",
    "sns.heatmap(df.select_dtypes(include=['number']).corr(), annot=True, linewidths=2, linecolor='white', cbar=False)\n",
    "plt.title(\"CORRELATION HEAT MAP\")\n",
    "plt.show()\n",
    "# hemoglobin = 0.77 \n",
    "# packet cell volume = 0.74\n",
    "# spesific gravity = 0.73\n",
    "# red blood cell count = 0.7\n",
    "# albumin = -0.63\n"
   ],
   "id": "cd08f996f2097684",
   "outputs": [],
   "execution_count": null
  },
  {
   "metadata": {},
   "cell_type": "code",
   "source": [
    "def draw_kde(col): # kernel density estimation\n",
    "    grid = sns.FacetGrid(df, hue='class', height=6, aspect=2)\n",
    "    grid.map(sns.kdeplot, col)\n",
    "    grid.add_legend()\n",
    "\n",
    "draw_kde('hemoglobin')    "
   ],
   "id": "f690af92c0a9a815",
   "outputs": [],
   "execution_count": null
  },
  {
   "metadata": {},
   "cell_type": "code",
   "source": "draw_kde('packet_cell_volume')",
   "id": "f4d9e9a7a012f057",
   "outputs": [],
   "execution_count": null
  },
  {
   "metadata": {},
   "cell_type": "code",
   "source": "draw_kde('spesific_gravity')",
   "id": "3377ad9cc4db3445",
   "outputs": [],
   "execution_count": null
  },
  {
   "metadata": {},
   "cell_type": "code",
   "source": "draw_kde('red_blood_cell_count')",
   "id": "7c233b29897c9d5a",
   "outputs": [],
   "execution_count": null
  },
  {
   "metadata": {},
   "cell_type": "code",
   "source": "draw_kde('albumin') # too many nan value",
   "id": "db95aa836adfc893",
   "outputs": [],
   "execution_count": null
  }
 ],
 "metadata": {
  "kernelspec": {
   "display_name": "Python 3",
   "language": "python",
   "name": "python3"
  },
  "language_info": {
   "codemirror_mode": {
    "name": "ipython",
    "version": 2
   },
   "file_extension": ".py",
   "mimetype": "text/x-python",
   "name": "python",
   "nbconvert_exporter": "python",
   "pygments_lexer": "ipython2",
   "version": "2.7.6"
  }
 },
 "nbformat": 4,
 "nbformat_minor": 5
}
